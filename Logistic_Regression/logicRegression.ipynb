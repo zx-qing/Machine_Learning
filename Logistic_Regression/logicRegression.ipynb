{
 "cells": [
  {
   "cell_type": "markdown",
   "metadata": {},
   "source": [
    "# 逻辑回归python代码的实现"
   ]
  },
  {
   "cell_type": "code",
   "execution_count": 1,
   "metadata": {},
   "outputs": [],
   "source": [
    "import numpy as np\n",
    "from sklearn.metrics import r2_score"
   ]
  },
  {
   "cell_type": "code",
   "execution_count": null,
   "metadata": {},
   "outputs": [],
   "source": [
    "class LogisticRegression:\n",
    "    \"\"\"逻辑回归模型\"\"\"\n",
    "    def __init__(self):\n",
    "        \"\"\"初始化Logistic Regression模型\"\"\"\n",
    "        self.coef_ = None\n",
    "        self.interception_ = None\n",
    "        self._theta = None   # 私有变量\n",
    "    \n",
    "    def _sigmoid(self, t):\n",
    "        return 1. / (1. + np.exp(-t))\n",
    "    \n",
    "    def fit(self,X_train, y_train):\n",
    "        \"\"\"训练函数，根据训练集x_train,y_train，使用梯度下降法训练Logistic Regression模型\"\"\"\n",
    "        \n",
    "        def J(theta, X_b, y):\n",
    "            y_hat = self._sigmoid(X_b.dot(theta))\n",
    "            try:\n",
    "                return np.sum(y * np.log(y_hat) + (1-y) * np.log(1 - y_hat)) / len(y)\n",
    "            except:\n",
    "                return float('inf')\n",
    "            \n",
    "        def dJ(theta, X_b, y):\n",
    "            return X_b.T.dot(self._sigmoid(X_b.dot(theta)) - y) / len(X_b)\n",
    "        \n",
    "        def gradient_descent(X_b, y, inital_theta, eta, n_iters=1e4, epsilon=1e )\n",
    "            \n",
    "        X_b = np.hstack([np.ones((len(X_train),1)), X_train])\n",
    "        self._theta = np.linalg.inv(X_b.T.dot(X_b)).dot(X_b.T).dot(y_train)\n",
    "        self.intercept_ = self._theta[0]\n",
    "        self.coef_ = self._theta[1:]\n",
    "        return self\n",
    "\n",
    "\n",
    "    def predict(self, X_predict):\n",
    "        \"\"\"预测函数，给定预测数据集X_predict,返回X_predict的结果向量\"\"\"\n",
    "        X_b = np.hstack([np.ones((len(X_predict),1)), X_predict])\n",
    "        return X_b.dot(self._theta)\n",
    "\n",
    "    \n",
    "    def score(self, X_test, y_test):\n",
    "        \"\"\"测试函数,根据测试集X_test和y_test确定当前模型的准确度\"\"\"\n",
    "        y_predict = self.predict(X_test)\n",
    "        return r2_score(y_test, y_predict)\n"
   ]
  }
 ],
 "metadata": {
  "kernelspec": {
   "display_name": "Python 3",
   "language": "python",
   "name": "python3"
  },
  "language_info": {
   "codemirror_mode": {
    "name": "ipython",
    "version": 3
   },
   "file_extension": ".py",
   "mimetype": "text/x-python",
   "name": "python",
   "nbconvert_exporter": "python",
   "pygments_lexer": "ipython3",
   "version": "3.6.6"
  }
 },
 "nbformat": 4,
 "nbformat_minor": 2
}
